{
 "cells": [
  {
   "cell_type": "markdown",
   "metadata": {},
   "source": [
    "# Задание 2. Вывести 5 айпи-адресов, которые встречаются чаще других."
   ]
  },
  {
   "cell_type": "code",
   "execution_count": 1,
   "metadata": {},
   "outputs": [
    {
     "data": {
      "text/html": [
       "<div>\n",
       "<style scoped>\n",
       "    .dataframe tbody tr th:only-of-type {\n",
       "        vertical-align: middle;\n",
       "    }\n",
       "\n",
       "    .dataframe tbody tr th {\n",
       "        vertical-align: top;\n",
       "    }\n",
       "\n",
       "    .dataframe thead th {\n",
       "        text-align: right;\n",
       "    }\n",
       "</style>\n",
       "<table border=\"1\" class=\"dataframe\">\n",
       "  <thead>\n",
       "    <tr style=\"text-align: right;\">\n",
       "      <th></th>\n",
       "      <th>link</th>\n",
       "      <th>ip</th>\n",
       "      <th>page</th>\n",
       "    </tr>\n",
       "  </thead>\n",
       "  <tbody>\n",
       "    <tr>\n",
       "      <th>0</th>\n",
       "      <td>https://wikipedia.org</td>\n",
       "      <td>72.110.191.15</td>\n",
       "      <td>/friends/files</td>\n",
       "    </tr>\n",
       "    <tr>\n",
       "      <th>1</th>\n",
       "      <td>rambler.ru</td>\n",
       "      <td>142.93.168.247</td>\n",
       "      <td>/universe.php</td>\n",
       "    </tr>\n",
       "    <tr>\n",
       "      <th>2</th>\n",
       "      <td>ftp://info.itar-tass.com</td>\n",
       "      <td>90.68.118.69</td>\n",
       "      <td>/login/monitors/static/me</td>\n",
       "    </tr>\n",
       "    <tr>\n",
       "      <th>3</th>\n",
       "      <td>http://altavista.com</td>\n",
       "      <td>18.79.197.236</td>\n",
       "      <td>/friends/tasks/universe</td>\n",
       "    </tr>\n",
       "    <tr>\n",
       "      <th>4</th>\n",
       "      <td>ftp://tetrika-school.ru</td>\n",
       "      <td>115.26.250.226</td>\n",
       "      <td>/translate/anekdots/my-files/monday</td>\n",
       "    </tr>\n",
       "  </tbody>\n",
       "</table>\n",
       "</div>"
      ],
      "text/plain": [
       "                       link              ip  \\\n",
       "0     https://wikipedia.org   72.110.191.15   \n",
       "1                rambler.ru  142.93.168.247   \n",
       "2  ftp://info.itar-tass.com    90.68.118.69   \n",
       "3      http://altavista.com   18.79.197.236   \n",
       "4   ftp://tetrika-school.ru  115.26.250.226   \n",
       "\n",
       "                                  page  \n",
       "0                       /friends/files  \n",
       "1                        /universe.php  \n",
       "2            /login/monitors/static/me  \n",
       "3              /friends/tasks/universe  \n",
       "4  /translate/anekdots/my-files/monday  "
      ]
     },
     "execution_count": 1,
     "metadata": {},
     "output_type": "execute_result"
    }
   ],
   "source": [
    "import pandas as pd\n",
    "\n",
    "data = pd.read_csv('/Users/garynich/Documents/Tetrica School/hits.txt', sep=\"\\t\", header=None)\n",
    "data.columns = ['link', 'ip', 'page']\n",
    "data.head()"
   ]
  },
  {
   "cell_type": "code",
   "execution_count": 2,
   "metadata": {},
   "outputs": [
    {
     "data": {
      "text/html": [
       "<div>\n",
       "<style scoped>\n",
       "    .dataframe tbody tr th:only-of-type {\n",
       "        vertical-align: middle;\n",
       "    }\n",
       "\n",
       "    .dataframe tbody tr th {\n",
       "        vertical-align: top;\n",
       "    }\n",
       "\n",
       "    .dataframe thead th {\n",
       "        text-align: right;\n",
       "    }\n",
       "</style>\n",
       "<table border=\"1\" class=\"dataframe\">\n",
       "  <thead>\n",
       "    <tr style=\"text-align: right;\">\n",
       "      <th></th>\n",
       "      <th>count</th>\n",
       "    </tr>\n",
       "    <tr>\n",
       "      <th>ip</th>\n",
       "      <th></th>\n",
       "    </tr>\n",
       "  </thead>\n",
       "  <tbody>\n",
       "    <tr>\n",
       "      <th>154.157.157.156</th>\n",
       "      <td>1531</td>\n",
       "    </tr>\n",
       "    <tr>\n",
       "      <th>82.146.232.163</th>\n",
       "      <td>1505</td>\n",
       "    </tr>\n",
       "    <tr>\n",
       "      <th>226.247.119.128</th>\n",
       "      <td>1494</td>\n",
       "    </tr>\n",
       "    <tr>\n",
       "      <th>194.78.107.33</th>\n",
       "      <td>1494</td>\n",
       "    </tr>\n",
       "    <tr>\n",
       "      <th>21.143.243.182</th>\n",
       "      <td>1479</td>\n",
       "    </tr>\n",
       "  </tbody>\n",
       "</table>\n",
       "</div>"
      ],
      "text/plain": [
       "                 count\n",
       "ip                    \n",
       "154.157.157.156   1531\n",
       "82.146.232.163    1505\n",
       "226.247.119.128   1494\n",
       "194.78.107.33     1494\n",
       "21.143.243.182    1479"
      ]
     },
     "execution_count": 2,
     "metadata": {},
     "output_type": "execute_result"
    }
   ],
   "source": [
    "answer = data.groupby('ip').agg('count').sort_values(by  = 'link', ascending = False).head(5)\n",
    "answer = answer.drop(['page'],axis = 1)\n",
    "answer.columns = ['count']\n",
    "\n",
    "answer"
   ]
  },
  {
   "cell_type": "code",
   "execution_count": 3,
   "metadata": {},
   "outputs": [
    {
     "name": "stdout",
     "output_type": "stream",
     "text": [
      "154.157.157.156\n",
      "82.146.232.163\n",
      "226.247.119.128\n",
      "194.78.107.33\n",
      "21.143.243.182\n"
     ]
    }
   ],
   "source": [
    "for each in answer.index:\n",
    "    print(each)"
   ]
  },
  {
   "cell_type": "markdown",
   "metadata": {},
   "source": [
    "# =========================\n",
    "# Ответ: 5 айпи-адресов, которые встречаются чаще других:\n",
    "\n",
    "154.157.157.156\n",
    "\n",
    "82.146.232.163\n",
    "\n",
    "226.247.119.128\n",
    "\n",
    "194.78.107.33\n",
    "\n",
    "21.143.243.182"
   ]
  }
 ],
 "metadata": {
  "kernelspec": {
   "display_name": "Python 3",
   "language": "python",
   "name": "python3"
  },
  "language_info": {
   "codemirror_mode": {
    "name": "ipython",
    "version": 3
   },
   "file_extension": ".py",
   "mimetype": "text/x-python",
   "name": "python",
   "nbconvert_exporter": "python",
   "pygments_lexer": "ipython3",
   "version": "3.7.3"
  }
 },
 "nbformat": 4,
 "nbformat_minor": 2
}
